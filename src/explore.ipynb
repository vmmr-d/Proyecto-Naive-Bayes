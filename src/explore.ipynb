{
    "cells": [
        {
            "cell_type": "markdown",
            "metadata": {},
            "source": [
                "# Explore here"
            ]
        },
        {
            "cell_type": "code",
            "execution_count": 1,
            "metadata": {},
            "outputs": [],
            "source": [
                "# Importamos Librerias necesarias\n",
                "import pandas as pd\n",
                "import numpy as np\n",
                "import matplotlib.pyplot as plt\n",
                "from sklearn.model_selection import train_test_split\n",
                "from sklearn.feature_extraction.text import CountVectorizer\n",
                "from sklearn.naive_bayes import MultinomialNB, GaussianNB, BernoulliNB\n",
                "from sklearn.ensemble import RandomForestClassifier\n",
                "from sklearn.metrics import *\n",
                "from imblearn.metrics import specificity_score\n",
                "from sklearn.model_selection import GridSearchCV"
            ]
        },
        {
            "cell_type": "markdown",
            "metadata": {},
            "source": [
                "# Datos"
            ]
        },
        {
            "cell_type": "code",
            "execution_count": 2,
            "metadata": {},
            "outputs": [
                {
                    "data": {
                        "text/html": [
                            "<div>\n",
                            "<style scoped>\n",
                            "    .dataframe tbody tr th:only-of-type {\n",
                            "        vertical-align: middle;\n",
                            "    }\n",
                            "\n",
                            "    .dataframe tbody tr th {\n",
                            "        vertical-align: top;\n",
                            "    }\n",
                            "\n",
                            "    .dataframe thead th {\n",
                            "        text-align: right;\n",
                            "    }\n",
                            "</style>\n",
                            "<table border=\"1\" class=\"dataframe\">\n",
                            "  <thead>\n",
                            "    <tr style=\"text-align: right;\">\n",
                            "      <th></th>\n",
                            "      <th>package_name</th>\n",
                            "      <th>review</th>\n",
                            "      <th>polarity</th>\n",
                            "    </tr>\n",
                            "  </thead>\n",
                            "  <tbody>\n",
                            "    <tr>\n",
                            "      <th>0</th>\n",
                            "      <td>com.facebook.katana</td>\n",
                            "      <td>privacy at least put some option appear offli...</td>\n",
                            "      <td>0</td>\n",
                            "    </tr>\n",
                            "    <tr>\n",
                            "      <th>1</th>\n",
                            "      <td>com.facebook.katana</td>\n",
                            "      <td>messenger issues ever since the last update, ...</td>\n",
                            "      <td>0</td>\n",
                            "    </tr>\n",
                            "    <tr>\n",
                            "      <th>2</th>\n",
                            "      <td>com.facebook.katana</td>\n",
                            "      <td>profile any time my wife or anybody has more ...</td>\n",
                            "      <td>0</td>\n",
                            "    </tr>\n",
                            "    <tr>\n",
                            "      <th>3</th>\n",
                            "      <td>com.facebook.katana</td>\n",
                            "      <td>the new features suck for those of us who don...</td>\n",
                            "      <td>0</td>\n",
                            "    </tr>\n",
                            "    <tr>\n",
                            "      <th>4</th>\n",
                            "      <td>com.facebook.katana</td>\n",
                            "      <td>forced reload on uploading pic on replying co...</td>\n",
                            "      <td>0</td>\n",
                            "    </tr>\n",
                            "  </tbody>\n",
                            "</table>\n",
                            "</div>"
                        ],
                        "text/plain": [
                            "          package_name                                             review  \\\n",
                            "0  com.facebook.katana   privacy at least put some option appear offli...   \n",
                            "1  com.facebook.katana   messenger issues ever since the last update, ...   \n",
                            "2  com.facebook.katana   profile any time my wife or anybody has more ...   \n",
                            "3  com.facebook.katana   the new features suck for those of us who don...   \n",
                            "4  com.facebook.katana   forced reload on uploading pic on replying co...   \n",
                            "\n",
                            "   polarity  \n",
                            "0         0  \n",
                            "1         0  \n",
                            "2         0  \n",
                            "3         0  \n",
                            "4         0  "
                        ]
                    },
                    "execution_count": 2,
                    "metadata": {},
                    "output_type": "execute_result"
                }
            ],
            "source": [
                "# Cargamos el dataframe\n",
                "df = pd.read_csv('../data/raw/playstore_reviews.csv')\n",
                "                 \n",
                "# Exploramos los datos\n",
                "df.head()"
            ]
        },
        {
            "cell_type": "code",
            "execution_count": 3,
            "metadata": {},
            "outputs": [],
            "source": [
                "# Eliminar la columna package_name\n",
                "df = df.drop('package_name', axis=1)"
            ]
        },
        {
            "cell_type": "code",
            "execution_count": 4,
            "metadata": {},
            "outputs": [],
            "source": [
                "# Procesamos el texto\n",
                "df[\"review\"] = df[\"review\"].str.strip().str.lower()"
            ]
        },
        {
            "cell_type": "code",
            "execution_count": 5,
            "metadata": {},
            "outputs": [],
            "source": [
                "# Dividir datos en características (X) y etiqueta (y)\n",
                "X = df['review']\n",
                "y = df['polarity']"
            ]
        },
        {
            "cell_type": "code",
            "execution_count": 6,
            "metadata": {},
            "outputs": [],
            "source": [
                "# Dividir en conjunto de entrenamiento y prueba\n",
                "X_train, X_test, y_train, y_test = train_test_split(X, y, test_size=0.2, random_state=42, stratify=y)"
            ]
        },
        {
            "cell_type": "code",
            "execution_count": 7,
            "metadata": {},
            "outputs": [],
            "source": [
                "# Transformar el texto en una matriz de recuento de palabras\n",
                "vec_model = CountVectorizer(stop_words=\"english\")\n",
                "X_train_vec = vec_model.fit_transform(X_train).toarray()\n",
                "X_test_vec = vec_model.transform(X_test).toarray()"
            ]
        },
        {
            "cell_type": "markdown",
            "metadata": {},
            "source": [
                "# Metricas de Evaluación"
            ]
        },
        {
            "cell_type": "code",
            "execution_count": 8,
            "metadata": {},
            "outputs": [],
            "source": [
                "def get_metrics(y_train, y_test, y_pred_train, y_pred_test):\n",
                "    # Calcular métricas para el conjunto de entrenamiento\n",
                "    train_accuracy = accuracy_score(y_train, y_pred_train)\n",
                "    train_f1 = f1_score(y_train, y_pred_train)\n",
                "    train_auc = roc_auc_score(y_train, y_pred_train)\n",
                "    train_precision = precision_score(y_train, y_pred_train)\n",
                "    train_recall = recall_score(y_train, y_pred_train)\n",
                "    train_specificity = specificity_score(y_train, y_pred_train)\n",
                "\n",
                "    # Calcular métricas para el conjunto de prueba\n",
                "    test_accuracy = accuracy_score(y_test, y_pred_test)\n",
                "    test_f1 = f1_score(y_test, y_pred_test)\n",
                "    test_auc = roc_auc_score(y_test, y_pred_test)\n",
                "    test_precision = precision_score(y_test, y_pred_test)\n",
                "    test_recall = recall_score(y_test, y_pred_test)\n",
                "    test_specificity = specificity_score(y_test, y_pred_test)\n",
                "\n",
                "    # Calcular la diferencia entre métricas de entrenamiento y prueba\n",
                "    diff_accuracy = train_accuracy - test_accuracy\n",
                "    diff_f1 = train_f1 - test_f1\n",
                "    diff_auc = train_auc - test_auc\n",
                "    diff_precision = train_precision - test_precision\n",
                "    diff_recall = train_recall - test_recall\n",
                "    diff_specificity = train_specificity - test_specificity\n",
                "\n",
                "    # Crear un DataFrame con los resultados\n",
                "    metrics_df = pd.DataFrame([[train_accuracy, train_f1, train_auc, train_precision, train_recall, train_specificity],[test_accuracy, test_f1, test_auc, test_precision, test_recall, test_specificity],[diff_accuracy, diff_f1, diff_auc, diff_precision, diff_recall, diff_specificity]],\n",
                "                              columns = ['Accuracy', 'F1', 'AUC', 'Precision', 'Recall', 'Specificity'],\n",
                "                              index = ['Train','Test', 'Diferencia'])\n",
                "\n",
                "    return metrics_df"
            ]
        },
        {
            "cell_type": "markdown",
            "metadata": {},
            "source": [
                "# Naive Bayes"
            ]
        },
        {
            "cell_type": "code",
            "execution_count": 9,
            "metadata": {},
            "outputs": [],
            "source": [
                "# Modelos de Naive Bayes\n",
                "models = {\n",
                "    \"GaussianNB\": GaussianNB(),\n",
                "    \"MultinomialNB\": MultinomialNB(),\n",
                "    \"BernoulliNB\": BernoulliNB()}"
            ]
        },
        {
            "cell_type": "code",
            "execution_count": 10,
            "metadata": {},
            "outputs": [],
            "source": [
                "# Entrenamiento de cada modelo\n",
                "for name, model in models.items():\n",
                "    model.fit(X_train_vec, y_train)"
            ]
        },
        {
            "cell_type": "code",
            "execution_count": 11,
            "metadata": {},
            "outputs": [
                {
                    "name": "stdout",
                    "output_type": "stream",
                    "text": [
                        "Modelo GaussianNB:\n",
                        "            Accuracy        F1       AUC  Precision    Recall  Specificity\n",
                        "Train       0.981742  0.974155  0.986081   0.949612  1.000000     0.972163\n",
                        "Test        0.815642  0.717949  0.783154   0.763636  0.677419     0.888889\n",
                        "Diferencia  0.166099  0.256206  0.202927   0.185976  0.322581     0.083274\n",
                        "--------------------------------------------------\n",
                        "Modelo MultinomialNB:\n",
                        "            Accuracy        F1       AUC  Precision    Recall  Specificity\n",
                        "Train       0.955056  0.933884  0.947306   0.945607  0.922449     0.972163\n",
                        "Test        0.854749  0.759259  0.809278   0.891304  0.661290     0.957265\n",
                        "Diferencia  0.100308  0.174625  0.138028   0.054302  0.261159     0.014898\n",
                        "--------------------------------------------------\n",
                        "Modelo BernoulliNB:\n",
                        "            Accuracy        F1       AUC  Precision    Recall  Specificity\n",
                        "Train       0.924157  0.876712  0.890766   0.994819  0.783673     0.997859\n",
                        "Test        0.782123  0.580645  0.700648   0.870968  0.435484     0.965812\n",
                        "Diferencia  0.142034  0.296067  0.190118   0.123851  0.348190     0.032047\n",
                        "--------------------------------------------------\n"
                    ]
                }
            ],
            "source": [
                "# Predicción y métricas de Evaluación de cada modelo\n",
                "for name, model in models.items():\n",
                "    test_pred = model.predict(X_test_vec)\n",
                "    train_pred = model.predict(X_train_vec)\n",
                "    print(f\"Modelo {name}:\")\n",
                "    print(get_metrics(y_train, y_test, train_pred, test_pred))\n",
                "    print(\"-\" * 50)"
            ]
        },
        {
            "cell_type": "code",
            "execution_count": 12,
            "metadata": {},
            "outputs": [
                {
                    "data": {
                        "image/png": "[encoded data removed]",
                        "text/plain": [
                            "<Figure size 1200x600 with 1 Axes>"
                        ]
                    },
                    "metadata": {},
                    "output_type": "display_data"
                }
            ],
            "source": [
                "# Gráfico de barras para cada variante de Naive Bayes\n",
                "models = ['GaussianNB', 'MultinomialNB', 'BernoulliNB']\n",
                "metrics = ['Accuracy', 'F1', 'AUC', 'Precision', 'Recall', 'Specificity']\n",
                "\n",
                "# Datos de test para cada modelo\n",
                "gaussian_test = [0.815642, 0.717949, 0.783154, 0.763636, 0.677419, 0.888889]\n",
                "multinomial_test = [0.854749, 0.759259, 0.809278, 0.891304, 0.661290, 0.957265]\n",
                "bernoulli_test = [0.782123, 0.580645, 0.700648, 0.870968, 0.435484, 0.965812]\n",
                "\n",
                "x = np.arange(len(metrics))\n",
                "width = 0.25\n",
                "\n",
                "fig, ax = plt.subplots(figsize=(12, 6))\n",
                "rects1 = ax.bar(x - width, gaussian_test, width, label='GaussianNB')\n",
                "rects2 = ax.bar(x, multinomial_test, width, label='MultinomialNB')\n",
                "rects3 = ax.bar(x + width, bernoulli_test, width, label='BernoulliNB')\n",
                "\n",
                "ax.set_ylabel('Scores')\n",
                "ax.set_title('Comparison of Naive Bayes Models')\n",
                "ax.set_xticks(x)\n",
                "ax.set_xticklabels(metrics)\n",
                "ax.legend()\n",
                "\n",
                "plt.tight_layout()\n",
                "plt.show()\n"
            ]
        },
        {
            "cell_type": "markdown",
            "metadata": {},
            "source": [
                "Este análisis sugiere que MultinomialNB es la mejor opción base, pero con margen para mejora mediante ajuste de hiperparámetros."
            ]
        },
        {
            "cell_type": "markdown",
            "metadata": {},
            "source": [
                "# Hiperparametros"
            ]
        },
        {
            "cell_type": "code",
            "execution_count": 13,
            "metadata": {},
            "outputs": [
                {
                    "name": "stdout",
                    "output_type": "stream",
                    "text": [
                        "Mejores parámetros: {'alpha': 0.5, 'fit_prior': False}\n"
                    ]
                }
            ],
            "source": [
                "# Optimización para MultinomialNB\n",
                "\n",
                "params = {'alpha': [0.1, 0.5, 1.0, 1.5, 2.0],\n",
                "          'fit_prior': [True, False]}\n",
                "\n",
                "grid = GridSearchCV(MultinomialNB(), params, cv=5, scoring='f1')\n",
                "grid.fit(X_train_vec, y_train)\n",
                "\n",
                "best_model = grid.best_estimator_\n",
                "print(f\"Mejores parámetros: {grid.best_params_}\")"
            ]
        },
        {
            "cell_type": "code",
            "execution_count": 14,
            "metadata": {},
            "outputs": [],
            "source": [
                "# Predicción de modelo optimizado\n",
                "test_pred_b = best_model.predict(X_test_vec)\n",
                "train_pred_b = best_model.predict(X_train_vec)"
            ]
        },
        {
            "cell_type": "code",
            "execution_count": 15,
            "metadata": {},
            "outputs": [
                {
                    "name": "stdout",
                    "output_type": "stream",
                    "text": [
                        "Modelo optimizado:\n",
                        "            Accuracy        F1       AUC  Precision    Recall  Specificity\n",
                        "Train       0.962079  0.945233  0.959450   0.939516  0.951020     0.967880\n",
                        "Test        0.882682  0.823529  0.860973   0.859649  0.790323     0.931624\n",
                        "Diferencia  0.079397  0.121704  0.098477   0.079867  0.160698     0.036256\n"
                    ]
                }
            ],
            "source": [
                "# Métricas de evaluación del modelo optimizado\n",
                "print(\"Modelo optimizado:\")\n",
                "print(get_metrics(y_train, y_test, train_pred_b, test_pred_b))"
            ]
        },
        {
            "cell_type": "markdown",
            "metadata": {},
            "source": [
                "# Save los Archivos"
            ]
        },
        {
            "cell_type": "code",
            "execution_count": 16,
            "metadata": {},
            "outputs": [],
            "source": [
                "# Guardamos el modelo\n",
                "from pickle import dump\n",
                "\n",
                "dump(best_model, open(\"../models/NaiveBayes.sav\", \"wb\"))"
            ]
        },
        {
            "cell_type": "markdown",
            "metadata": {},
            "source": [
                "# Conclusiones"
            ]
        },
        {
            "cell_type": "markdown",
            "metadata": {},
            "source": [
                "Con la optimización se mejoró el rendimiento en test manteniendo capacidad de generalización.\n",
                "\n",
                "El modelo optimizado es ahora más adecuado para un entorno real, especialmente si la detección de comentarios positivos/negativos requiere equilibrio entre precisión y cobertura."
            ]
        }
    ],
    "metadata": {
        "kernelspec": {
            "display_name": "Python 3",
            "language": "python",
            "name": "python3"
        },
        "language_info": {
            "codemirror_mode": {
                "name": "ipython",
                "version": 3
            },
            "file_extension": ".py",
            "mimetype": "text/x-python",
            "name": "python",
            "nbconvert_exporter": "python",
            "pygments_lexer": "ipython3",
            "version": "3.12.9"
        },
        "orig_nbformat": 4
    },
    "nbformat": 4,
    "nbformat_minor": 2
}
